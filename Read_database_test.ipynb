{
 "cells": [
  {
   "cell_type": "code",
   "execution_count": 7,
   "metadata": {},
   "outputs": [],
   "source": [
    "import numpy as np\n",
    "\n",
    "### CNN PARAMS\n",
    "from param_all4_2D_smallFilter_1batchNorm_multiSlice_dataGenerator import * \n",
    "\n",
    "import lightcone_functions\n",
    "\n",
    "%load_ext autoreload\n",
    "%autoreload 2\n",
    "#%reload_ext autoreload"
   ]
  },
  {
   "cell_type": "code",
   "execution_count": 4,
   "metadata": {},
   "outputs": [],
   "source": [
    "import h5py"
   ]
  },
  {
   "cell_type": "code",
   "execution_count": null,
   "metadata": {},
   "outputs": [],
   "source": []
  },
  {
   "cell_type": "code",
   "execution_count": null,
   "metadata": {},
   "outputs": [],
   "source": []
  },
  {
   "cell_type": "code",
   "execution_count": null,
   "metadata": {},
   "outputs": [],
   "source": []
  },
  {
   "cell_type": "code",
   "execution_count": 5,
   "metadata": {},
   "outputs": [],
   "source": [
    "### TRAINING\n",
    "DATA_DIR = '/media/yqin/81614149-2ed8-4c76-82e1-c46763d086fa/ngillet/LC_SLICE10_px100_2200_N10000_randICs_train.hdf5'"
   ]
  },
  {
   "cell_type": "code",
   "execution_count": 9,
   "metadata": {},
   "outputs": [
    {
     "name": "stdout",
     "output_type": "stream",
     "text": [
      "(4, 100, 2200, 1)\n",
      "LC_test\n",
      "LC_train\n",
      "LC_val\n",
      "Param_raw_test\n",
      "Param_raw_train\n",
      "Param_raw_val\n",
      "Param_test\n",
      "Param_train\n",
      "Param_val\n"
     ]
    }
   ],
   "source": [
    "with h5py.File(DATA_DIR, 'r', swmr=True) as f:\n",
    "    data = f['LC_train']\n",
    "    t = np.array([1,3,4,6])\n",
    "    print(data[ list(t) ].shape)\n",
    "    sub_data = f['LC_train'][ [1,2,3,4,5] ]\n",
    "    for key in f.keys():\n",
    "        print(key)"
   ]
  },
  {
   "cell_type": "code",
   "execution_count": null,
   "metadata": {},
   "outputs": [],
   "source": []
  },
  {
   "cell_type": "code",
   "execution_count": 47,
   "metadata": {},
   "outputs": [
    {
     "name": "stdout",
     "output_type": "stream",
     "text": [
      "[102 109 105 104 107 101 108 103 106 100]\n",
      "[9 5 0 7 3 2 8 4 6 1]\n",
      "[100 101 102 103 104 105 106 107 108 109]\n",
      "[102 109 105 104 107 101 108 103 106 100]\n"
     ]
    }
   ],
   "source": [
    "array =  np.arange(100,110)\n",
    "np.random.shuffle(array)\n",
    "print(array)\n",
    "ID_sorted_array = np.argsort( array )\n",
    "print(ID_sorted_array)\n",
    "sorted_array = array[ID_sorted_array]\n",
    "print( sorted_array )\n",
    "\n",
    "original_array = sorted_array[ np.argsort(ID_sorted_array) ]\n",
    "print( original_array )"
   ]
  },
  {
   "cell_type": "code",
   "execution_count": 48,
   "metadata": {},
   "outputs": [],
   "source": [
    "np.random.shuffle?"
   ]
  },
  {
   "cell_type": "code",
   "execution_count": null,
   "metadata": {},
   "outputs": [],
   "source": []
  },
  {
   "cell_type": "code",
   "execution_count": 1,
   "metadata": {},
   "outputs": [
    {
     "name": "stderr",
     "output_type": "stream",
     "text": [
      "Using TensorFlow backend.\n"
     ]
    },
    {
     "name": "stdout",
     "output_type": "stream",
     "text": [
      "['/job:localhost/replica:0/task:0/device:GPU:0']\n",
      "[name: \"/device:CPU:0\"\n",
      "device_type: \"CPU\"\n",
      "memory_limit: 268435456\n",
      "locality {\n",
      "}\n",
      "incarnation: 15973659526459358145\n",
      ", name: \"/device:XLA_CPU:0\"\n",
      "device_type: \"XLA_CPU\"\n",
      "memory_limit: 17179869184\n",
      "locality {\n",
      "}\n",
      "incarnation: 4271990629158352089\n",
      "physical_device_desc: \"device: XLA_CPU device\"\n",
      ", name: \"/device:XLA_GPU:0\"\n",
      "device_type: \"XLA_GPU\"\n",
      "memory_limit: 17179869184\n",
      "locality {\n",
      "}\n",
      "incarnation: 3693506309512864922\n",
      "physical_device_desc: \"device: XLA_GPU device\"\n",
      ", name: \"/device:GPU:0\"\n",
      "device_type: \"GPU\"\n",
      "memory_limit: 10823450624\n",
      "locality {\n",
      "  bus_id: 2\n",
      "  numa_node: 1\n",
      "  links {\n",
      "  }\n",
      "}\n",
      "incarnation: 5801810668478178703\n",
      "physical_device_desc: \"device: 0, name: TITAN V, pci bus id: 0000:83:00.0, compute capability: 7.0\"\n",
      "]\n"
     ]
    }
   ],
   "source": [
    "from keras import backend as K\n",
    "\n",
    "print( K.tensorflow_backend._get_available_gpus() )\n",
    "from tensorflow.python.client import device_lib\n",
    "print( device_lib.list_local_devices() )"
   ]
  },
  {
   "cell_type": "code",
   "execution_count": null,
   "metadata": {},
   "outputs": [],
   "source": []
  }
 ],
 "metadata": {
  "kernelspec": {
   "display_name": "Python 3",
   "language": "python",
   "name": "python3"
  },
  "language_info": {
   "codemirror_mode": {
    "name": "ipython",
    "version": 3
   },
   "file_extension": ".py",
   "mimetype": "text/x-python",
   "name": "python",
   "nbconvert_exporter": "python",
   "pygments_lexer": "ipython3",
   "version": "3.6.8"
  }
 },
 "nbformat": 4,
 "nbformat_minor": 2
}
